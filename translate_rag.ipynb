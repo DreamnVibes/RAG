{
 "cells": [
  {
   "cell_type": "markdown",
   "id": "ef4d23a5",
   "metadata": {},
   "source": [
    "**RAG Pipeline for translating user text using Langchain**"
   ]
  },
  {
   "cell_type": "code",
   "execution_count": 1,
   "id": "e799b71a",
   "metadata": {},
   "outputs": [],
   "source": [
    "#importing model\n",
    "from langchain.chat_models import init_chat_model\n",
    "\n",
    "model = init_chat_model(\"mistral-medium-latest\", model_provider=\"mistralai\")"
   ]
  },
  {
   "cell_type": "code",
   "execution_count": 2,
   "id": "b5f0153e",
   "metadata": {},
   "outputs": [
    {
     "data": {
      "text/plain": [
       "AIMessage(content='ഇതൊരു മനുഷ്യ ഭാഷാ വിവർത്തന പൈപ്പ്ലൈനാണ്!', additional_kwargs={}, response_metadata={'token_usage': {'prompt_tokens': 21, 'total_tokens': 46, 'completion_tokens': 25}, 'model_name': 'mistral-medium-latest', 'model': 'mistral-medium-latest', 'finish_reason': 'stop'}, id='run--f7a4e703-d89f-40e8-93a5-f7d89574cd86-0', usage_metadata={'input_tokens': 21, 'output_tokens': 25, 'total_tokens': 46})"
      ]
     },
     "execution_count": 2,
     "metadata": {},
     "output_type": "execute_result"
    }
   ],
   "source": [
    "#Invoking the model directly\n",
    "from langchain_core.messages import HumanMessage, SystemMessage\n",
    "\n",
    "messages = [\n",
    "    SystemMessage(\"Translate the following from English into Malayalam\"),\n",
    "    HumanMessage(\"This is a Human Language Translation pipeline!\"),\n",
    "]\n",
    "\n",
    "model.invoke(messages)"
   ]
  },
  {
   "cell_type": "code",
   "execution_count": 3,
   "id": "09cf30a3",
   "metadata": {},
   "outputs": [
    {
     "name": "stdout",
     "output_type": "stream",
     "text": [
      "|ഇ|ത|ൊ|രു| മ|ന|ുഷ്യ ഭ|ാഷ|ാ| പര|ിഭ|ാഷ| പ|ൈ|പ്പ|്ല|ൈ|ന|ാണ്|!|"
     ]
    }
   ],
   "source": [
    "#Chat models are runnables, i.e. model output can be streamed token by token\n",
    "for token in model.stream(messages):\n",
    "    print(token.content, end = '|')"
   ]
  },
  {
   "cell_type": "code",
   "execution_count": 4,
   "id": "da58ec09",
   "metadata": {},
   "outputs": [],
   "source": [
    "#Templating\n",
    "from langchain_core.prompts import ChatPromptTemplate\n",
    "\n",
    "system_template = \"Translate the following from English into {language}\"\n",
    "\n",
    "prompt_template = ChatPromptTemplate.from_messages(\n",
    "    [(\"system\", system_template), (\"user\", \"{text}\")]\n",
    ")"
   ]
  },
  {
   "cell_type": "code",
   "execution_count": 7,
   "id": "75371694",
   "metadata": {},
   "outputs": [
    {
     "data": {
      "text/plain": [
       "[SystemMessage(content='Translate the following from English into Malayalam', additional_kwargs={}, response_metadata={}),\n",
       " HumanMessage(content='This code block shows how templating works in a rag pipeline.', additional_kwargs={}, response_metadata={})]"
      ]
     },
     "execution_count": 7,
     "metadata": {},
     "output_type": "execute_result"
    }
   ],
   "source": [
    "#invoking template\n",
    "prompt = prompt_template.invoke({\"language\": \"Malayalam\", \"text\": \"This code block shows how templating works in a rag pipeline.\"})\n",
    "\n",
    "prompt\n",
    "\n",
    "#to see message directly\n",
    "prompt.to_messages()"
   ]
  },
  {
   "cell_type": "code",
   "execution_count": 8,
   "id": "e1508735",
   "metadata": {},
   "outputs": [
    {
     "name": "stdout",
     "output_type": "stream",
     "text": [
      "ഈ കോഡ് ബ്ലോക്ക് ഒരു rag പൈപ്ലൈനിൽ ടെമ്പ്ലേറ്റിംഗ് എങ്ങനെ പ്രവർത്തിക്കുന്നു എന്നതിന്റെ ഒരു ഉദാഹരണമാണ്.\n",
      "\n",
      "Explanation of terms:\n",
      "- Code block: കോഡ് ബ്ലോക്ക്\n",
      "- Templating: ടെമ്പ്ലേറ്റിംഗ്\n",
      "- RAG pipeline: RAG പൈപ്ലൈൻ (Retrieval-Augmented Generation)\n"
     ]
    }
   ],
   "source": [
    "#invoking chat model on prompt\n",
    "response = model.invoke(prompt)\n",
    "print(response.content)"
   ]
  }
 ],
 "metadata": {
  "kernelspec": {
   "display_name": "venv",
   "language": "python",
   "name": "python3"
  },
  "language_info": {
   "codemirror_mode": {
    "name": "ipython",
    "version": 3
   },
   "file_extension": ".py",
   "mimetype": "text/x-python",
   "name": "python",
   "nbconvert_exporter": "python",
   "pygments_lexer": "ipython3",
   "version": "3.11.0"
  }
 },
 "nbformat": 4,
 "nbformat_minor": 5
}
